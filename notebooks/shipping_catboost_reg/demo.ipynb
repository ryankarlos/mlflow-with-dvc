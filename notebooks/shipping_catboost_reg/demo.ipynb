{
 "cells": [
  {
   "cell_type": "code",
   "execution_count": 12,
   "id": "5c57733c-0b1d-4cff-b264-d0963678e036",
   "metadata": {
    "tags": []
   },
   "outputs": [
    {
     "name": "stdout",
     "output_type": "stream",
     "text": [
      "Requirement already satisfied: sagemaker in /home/ec2-user/anaconda3/envs/python3/lib/python3.10/site-packages (from -r ./requirements.txt (line 1)) (2.206.0)\n",
      "Requirement already satisfied: pandas in /home/ec2-user/anaconda3/envs/python3/lib/python3.10/site-packages (from -r ./requirements.txt (line 2)) (2.1.1)\n",
      "Requirement already satisfied: catboost in /home/ec2-user/anaconda3/envs/python3/lib/python3.10/site-packages (from -r ./requirements.txt (line 3)) (1.2.2)\n",
      "Requirement already satisfied: scikit-learn in /home/ec2-user/anaconda3/envs/python3/lib/python3.10/site-packages (from -r ./requirements.txt (line 4)) (1.3.2)\n",
      "Requirement already satisfied: fsspec in /home/ec2-user/anaconda3/envs/python3/lib/python3.10/site-packages (from -r ./requirements.txt (line 5)) (2023.10.0)\n",
      "Requirement already satisfied: s3fs in /home/ec2-user/anaconda3/envs/python3/lib/python3.10/site-packages (from -r ./requirements.txt (line 6)) (0.4.2)\n",
      "Requirement already satisfied: ipywidgets in /home/ec2-user/anaconda3/envs/python3/lib/python3.10/site-packages (from -r ./requirements.txt (line 7)) (8.1.1)\n",
      "\u001b[31mERROR: Could not find a version that satisfies the requirement pickle (from versions: none)\u001b[0m\u001b[31m\n",
      "\u001b[0m\u001b[31mERROR: No matching distribution found for pickle\u001b[0m\u001b[31m\n",
      "\u001b[0mCompleted running the processing job\n"
     ]
    },
    {
     "data": {
      "application/vnd.jupyter.widget-view+json": {
       "model_id": "b85331167891445c919b8056c686dc35",
       "version_major": 2,
       "version_minor": 0
      },
      "text/plain": [
       "MetricVisualizer(layout=Layout(align_self='stretch', height='500px'))"
      ]
     },
     "metadata": {},
     "output_type": "display_data"
    },
    {
     "name": "stdout",
     "output_type": "stream",
     "text": [
      "0:\tlearn: 2.2470706\ttest: 2.4700825\tbest: 2.4700825 (0)\ttotal: 1.92ms\tremaining: 7.69s\n",
      "2000:\tlearn: 0.4195061\ttest: 0.7770199\tbest: 0.7729271 (1450)\ttotal: 5.03s\tremaining: 5.03s\n",
      "3999:\tlearn: 0.2772115\ttest: 0.7829538\tbest: 0.7729271 (1450)\ttotal: 10.6s\tremaining: 0us\n",
      "\n",
      "bestTest = 0.7729271004\n",
      "bestIteration = 1450\n",
      "\n",
      "Shrink model to first 1451 iterations.\n",
      "evaluation report: {'regression_metrics': {'mse': {'value': 0.6220480970026173, 'standard_deviation': 0.7812581495477107}}}\n"
     ]
    }
   ],
   "source": [
    "!pip install -r ./requirements.txt\n",
    "\n",
    "\n",
    "import pandas as pd\n",
    "\n",
    "import numpy as np\n",
    "\n",
    "import os\n",
    "from catboost import CatBoost, CatBoostRegressor, Pool\n",
    "\n",
    "from sklearn.metrics import mean_squared_error\n",
    "\n",
    "from sklearn.model_selection import train_test_split\n",
    "import sagemaker\n",
    "from s3fs.core import S3FileSystem\n",
    "import pickle\n",
    "import os\n",
    "\n",
    "\n",
    "def preprocess(raw_data):\n",
    "    df = pd.read_csv(raw_data)\n",
    "    df.drop(['ProductId', 'OrderID', 'OnTimeDelivery', 'OrderDate'], axis=1, inplace=True)\n",
    "    train, test = train_test_split(df, test_size=0.2)\n",
    "    train, validation = train_test_split(train, test_size=0.2)\n",
    "    print(\"Completed running the processing job\")\n",
    "    return pd.DataFrame(train), pd.DataFrame(validation), pd.DataFrame(test)\n",
    "\n",
    "\n",
    "\n",
    "def train(\n",
    "    train_df,\n",
    "    validation_df,\n",
    "    categorical_features_names,\n",
    "    target = \"ExpectedShippingDays\",\n",
    "    iterations=100,\n",
    "    learning_rate=0.01,\n",
    "    n_estimators=4000,\n",
    "):\n",
    "    y_train = train_df.loc[:, target]\n",
    "    train_df.drop([target], axis=1, inplace=True)\n",
    "    y_validation = validation_df.loc[:, target]\n",
    "    validation_df.drop([target], axis=1, inplace=True)\n",
    "    train_pool = Pool(train_df, label=y_train, cat_features=categorical_features_names)\n",
    "    val_pool = Pool(validation_df, label=y_validation, cat_features=categorical_features_names)\n",
    "    model = CatBoostRegressor(custom_metric= ['R2', 'RMSE'], learning_rate=learning_rate, n_estimators=n_estimators)\n",
    "    model.fit(train_pool, eval_set=val_pool, verbose=2000, plot=True)\n",
    "    return model\n",
    "\n",
    "\n",
    "\n",
    "def evaluate(model, test_df,target = \"ExpectedShippingDays\",):\n",
    "    y_test = test_df.loc[:, target]\n",
    "    test_df.drop([target], axis=1, inplace=True)\n",
    "    predictions = model.predict(test_df)\n",
    "\n",
    "    mse = mean_squared_error(y_test, predictions)\n",
    "    std = np.std(y_test - predictions)\n",
    "    report_dict = {\n",
    "        \"regression_metrics\": {\n",
    "            \"mse\": {\"value\": mse, \"standard_deviation\": std},\n",
    "        },\n",
    "    }\n",
    "    return report_dict\n",
    "\n",
    "\n",
    "csv_path = f\"canvas-sample-shipping-logs.csv\"\n",
    "\n",
    "train_df, val_df, test_df = preprocess(csv_path)\n",
    "categorical_features_names = ['ShippingPriority' ,'ShippingOrigin', 'InBulkOrder', 'Carrier']\n",
    "model = train(train_df, val_df, categorical_features_names)\n",
    "report = evaluate(model, test_df)\n",
    "print(f\"evaluation report: {report}\")"
   ]
  },
  {
   "cell_type": "code",
   "execution_count": 3,
   "id": "fd74ca92-eb0d-4142-8f61-db0b44d53089",
   "metadata": {
    "tags": []
   },
   "outputs": [
    {
     "name": "stdout",
     "output_type": "stream",
     "text": [
      "chmod: cannot access ‘lost+found’: No such file or directory\n"
     ]
    },
    {
     "name": "stderr",
     "output_type": "stream",
     "text": [
      "INFO:botocore.credentials:Found credentials from IAM Role: BaseNotebookInstanceEc2InstanceRole\n",
      "INFO:botocore.credentials:Found credentials from IAM Role: BaseNotebookInstanceEc2InstanceRole\n"
     ]
    },
    {
     "name": "stdout",
     "output_type": "stream",
     "text": [
      "sagemaker.config INFO - Applied value from config key = SageMaker.PythonSDK.Modules.RemoteFunction.Dependencies\n",
      "sagemaker.config INFO - Applied value from config key = SageMaker.PythonSDK.Modules.RemoteFunction.IncludeLocalWorkDir\n",
      "sagemaker.config INFO - Applied value from config key = SageMaker.PythonSDK.Modules.RemoteFunction.CustomFileFilter.IgnoreNamePatterns\n",
      "sagemaker.config INFO - Applied value from config key = SageMaker.PythonSDK.Modules.RemoteFunction.InstanceType\n"
     ]
    },
    {
     "name": "stderr",
     "output_type": "stream",
     "text": [
      "2024-02-11 23:27:48,089 sagemaker.remote_function INFO     Uploading serialized function code to s3://sagemaker-us-east-1-376337229415/ShippingPipeline/ShippingEval/2024-02-11-23-27-45-725/function\n",
      "2024-02-11 23:27:48,160 sagemaker.remote_function INFO     Uploading serialized function arguments to s3://sagemaker-us-east-1-376337229415/ShippingPipeline/ShippingEval/2024-02-11-23-27-45-725/arguments\n",
      "2024-02-11 23:27:48,468 sagemaker.remote_function INFO     Copied dependencies file at './requirements.txt' to '/tmp/tmp6tbt7xtr/requirements.txt'\n",
      "2024-02-11 23:27:48,501 sagemaker.remote_function INFO     Successfully uploaded dependencies and pre execution scripts to 's3://sagemaker-us-east-1-376337229415/ShippingPipeline/ShippingEval/2024-02-11-23-27-45-725/pre_exec_script_and_dependencies'\n",
      "2024-02-11 23:27:48,507 sagemaker.remote_function INFO     Copied user workspace to '/tmp/tmpy_j08ppk/temp_workspace/sagemaker_remote_function_workspace'\n",
      "2024-02-11 23:27:48,615 sagemaker.remote_function INFO     Successfully created workdir archive at '/tmp/tmpy_j08ppk/workspace.zip'\n",
      "2024-02-11 23:27:48,714 sagemaker.remote_function INFO     Successfully uploaded workdir to 's3://sagemaker-us-east-1-376337229415/ShippingPipeline/sm_rf_user_ws/2024-02-11-23-27-45-725/workspace.zip'\n",
      "WARNING:sagemaker.workflow.utilities:Popping out 'TrainingJobName' from the pipeline definition by default since it will be overridden at pipeline execution time. Please utilize the PipelineDefinitionConfig to persist this field in the pipeline definition if desired.\n"
     ]
    },
    {
     "name": "stdout",
     "output_type": "stream",
     "text": [
      "sagemaker.config INFO - Applied value from config key = SageMaker.PythonSDK.Modules.RemoteFunction.Dependencies\n",
      "sagemaker.config INFO - Applied value from config key = SageMaker.PythonSDK.Modules.RemoteFunction.IncludeLocalWorkDir\n",
      "sagemaker.config INFO - Applied value from config key = SageMaker.PythonSDK.Modules.RemoteFunction.CustomFileFilter.IgnoreNamePatterns\n",
      "sagemaker.config INFO - Applied value from config key = SageMaker.PythonSDK.Modules.RemoteFunction.InstanceType\n"
     ]
    },
    {
     "name": "stderr",
     "output_type": "stream",
     "text": [
      "2024-02-11 23:27:51,338 sagemaker.remote_function INFO     Uploading serialized function code to s3://sagemaker-us-east-1-376337229415/ShippingPipeline/ShippingTrain/2024-02-11-23-27-45-725/function\n",
      "2024-02-11 23:27:51,443 sagemaker.remote_function INFO     Uploading serialized function arguments to s3://sagemaker-us-east-1-376337229415/ShippingPipeline/ShippingTrain/2024-02-11-23-27-45-725/arguments\n",
      "2024-02-11 23:27:51,558 sagemaker.remote_function INFO     Copied dependencies file at './requirements.txt' to '/tmp/tmp779_8mp9/requirements.txt'\n",
      "2024-02-11 23:27:51,586 sagemaker.remote_function INFO     Successfully uploaded dependencies and pre execution scripts to 's3://sagemaker-us-east-1-376337229415/ShippingPipeline/ShippingTrain/2024-02-11-23-27-45-725/pre_exec_script_and_dependencies'\n",
      "WARNING:sagemaker.workflow.utilities:Popping out 'TrainingJobName' from the pipeline definition by default since it will be overridden at pipeline execution time. Please utilize the PipelineDefinitionConfig to persist this field in the pipeline definition if desired.\n"
     ]
    },
    {
     "name": "stdout",
     "output_type": "stream",
     "text": [
      "sagemaker.config INFO - Applied value from config key = SageMaker.PythonSDK.Modules.RemoteFunction.Dependencies\n",
      "sagemaker.config INFO - Applied value from config key = SageMaker.PythonSDK.Modules.RemoteFunction.IncludeLocalWorkDir\n",
      "sagemaker.config INFO - Applied value from config key = SageMaker.PythonSDK.Modules.RemoteFunction.CustomFileFilter.IgnoreNamePatterns\n",
      "sagemaker.config INFO - Applied value from config key = SageMaker.PythonSDK.Modules.RemoteFunction.InstanceType\n"
     ]
    },
    {
     "name": "stderr",
     "output_type": "stream",
     "text": [
      "2024-02-11 23:27:53,822 sagemaker.remote_function INFO     Uploading serialized function code to s3://sagemaker-us-east-1-376337229415/ShippingPipeline/ShippingPreprocess/2024-02-11-23-27-45-725/function\n",
      "2024-02-11 23:27:53,927 sagemaker.remote_function INFO     Uploading serialized function arguments to s3://sagemaker-us-east-1-376337229415/ShippingPipeline/ShippingPreprocess/2024-02-11-23-27-45-725/arguments\n",
      "2024-02-11 23:27:54,002 sagemaker.remote_function INFO     Copied dependencies file at './requirements.txt' to '/tmp/tmpg0t7l55b/requirements.txt'\n",
      "2024-02-11 23:27:54,050 sagemaker.remote_function INFO     Successfully uploaded dependencies and pre execution scripts to 's3://sagemaker-us-east-1-376337229415/ShippingPipeline/ShippingPreprocess/2024-02-11-23-27-45-725/pre_exec_script_and_dependencies'\n",
      "WARNING:sagemaker.workflow.utilities:Popping out 'TrainingJobName' from the pipeline definition by default since it will be overridden at pipeline execution time. Please utilize the PipelineDefinitionConfig to persist this field in the pipeline definition if desired.\n",
      "2024-02-11 23:27:54,509 sagemaker.remote_function INFO     Uploading serialized function code to s3://sagemaker-us-east-1-376337229415/ShippingPipeline/ShippingEval/2024-02-11-23-27-54-509/function\n",
      "2024-02-11 23:27:54,611 sagemaker.remote_function INFO     Uploading serialized function arguments to s3://sagemaker-us-east-1-376337229415/ShippingPipeline/ShippingEval/2024-02-11-23-27-54-509/arguments\n",
      "2024-02-11 23:27:54,826 sagemaker.remote_function INFO     Copied dependencies file at './requirements.txt' to '/tmp/tmpm50lmk6t/requirements.txt'\n",
      "2024-02-11 23:27:54,853 sagemaker.remote_function INFO     Successfully uploaded dependencies and pre execution scripts to 's3://sagemaker-us-east-1-376337229415/ShippingPipeline/ShippingEval/2024-02-11-23-27-54-509/pre_exec_script_and_dependencies'\n",
      "2024-02-11 23:27:54,858 sagemaker.remote_function INFO     Copied user workspace to '/tmp/tmpkwrf9zeu/temp_workspace/sagemaker_remote_function_workspace'\n",
      "2024-02-11 23:27:54,946 sagemaker.remote_function INFO     Successfully created workdir archive at '/tmp/tmpkwrf9zeu/workspace.zip'\n",
      "2024-02-11 23:27:55,059 sagemaker.remote_function INFO     Successfully uploaded workdir to 's3://sagemaker-us-east-1-376337229415/ShippingPipeline/sm_rf_user_ws/2024-02-11-23-27-54-509/workspace.zip'\n",
      "WARNING:sagemaker.workflow.utilities:Popping out 'TrainingJobName' from the pipeline definition by default since it will be overridden at pipeline execution time. Please utilize the PipelineDefinitionConfig to persist this field in the pipeline definition if desired.\n",
      "2024-02-11 23:27:55,063 sagemaker.remote_function INFO     Uploading serialized function code to s3://sagemaker-us-east-1-376337229415/ShippingPipeline/ShippingTrain/2024-02-11-23-27-54-509/function\n",
      "2024-02-11 23:27:55,148 sagemaker.remote_function INFO     Uploading serialized function arguments to s3://sagemaker-us-east-1-376337229415/ShippingPipeline/ShippingTrain/2024-02-11-23-27-54-509/arguments\n",
      "2024-02-11 23:27:55,236 sagemaker.remote_function INFO     Copied dependencies file at './requirements.txt' to '/tmp/tmpzowg6rzt/requirements.txt'\n",
      "2024-02-11 23:27:55,267 sagemaker.remote_function INFO     Successfully uploaded dependencies and pre execution scripts to 's3://sagemaker-us-east-1-376337229415/ShippingPipeline/ShippingTrain/2024-02-11-23-27-54-509/pre_exec_script_and_dependencies'\n",
      "WARNING:sagemaker.workflow.utilities:Popping out 'TrainingJobName' from the pipeline definition by default since it will be overridden at pipeline execution time. Please utilize the PipelineDefinitionConfig to persist this field in the pipeline definition if desired.\n",
      "2024-02-11 23:27:55,271 sagemaker.remote_function INFO     Uploading serialized function code to s3://sagemaker-us-east-1-376337229415/ShippingPipeline/ShippingPreprocess/2024-02-11-23-27-54-509/function\n",
      "2024-02-11 23:27:55,397 sagemaker.remote_function INFO     Uploading serialized function arguments to s3://sagemaker-us-east-1-376337229415/ShippingPipeline/ShippingPreprocess/2024-02-11-23-27-54-509/arguments\n",
      "2024-02-11 23:27:55,481 sagemaker.remote_function INFO     Copied dependencies file at './requirements.txt' to '/tmp/tmpf_uc2jw9/requirements.txt'\n",
      "2024-02-11 23:27:55,528 sagemaker.remote_function INFO     Successfully uploaded dependencies and pre execution scripts to 's3://sagemaker-us-east-1-376337229415/ShippingPipeline/ShippingPreprocess/2024-02-11-23-27-54-509/pre_exec_script_and_dependencies'\n",
      "WARNING:sagemaker.workflow.utilities:Popping out 'TrainingJobName' from the pipeline definition by default since it will be overridden at pipeline execution time. Please utilize the PipelineDefinitionConfig to persist this field in the pipeline definition if desired.\n"
     ]
    }
   ],
   "source": [
    "from sagemaker.workflow.pipeline_context import PipelineSession\n",
    "from sagemaker.workflow.pipeline import Pipeline\n",
    "from sagemaker import get_execution_role\n",
    "from sagemaker.workflow.parameters import (\n",
    "    ParameterInteger,\n",
    "    ParameterString,\n",
    ")\n",
    "from sagemaker.workflow.function_step import step\n",
    "\n",
    "!sudo chmod 777 lost+found\n",
    "\n",
    "\n",
    "pipeline_session = PipelineSession()\n",
    "region = pipeline_session.boto_region_name\n",
    "default_bucket = pipeline_session.default_bucket()\n",
    "input_path = f\"s3://{default_bucket}/canvas/sample_dataset/canvas-sample-shipping-logs.csv\"\n",
    "\n",
    "# Set path to config file\n",
    "os.environ[\"SAGEMAKER_USER_CONFIG_OVERRIDE\"] = os.getcwd()\n",
    "\n",
    "\n",
    "categorical_features_names = ['ShippingPriority' ,'ShippingOrigin', 'InBulkOrder', 'Carrier']\n",
    "instance_count = ParameterInteger(\n",
    "    name=\"InstanceCount\",\n",
    "    default_value=1\n",
    ")\n",
    "\n",
    "instance_type = ParameterString(\n",
    "    name=\"InstanceType\",\n",
    "    default_value='ml.m5.large'\n",
    ")\n",
    "\n",
    "\n",
    "delayed_data = step(preprocess, name=\"ShippingPreprocess\")(input_path)\n",
    "delayed_model = step(train, name=\"ShippingTrain\")(train_df=delayed_data[0],\n",
    "                                                  validation_df=delayed_data[1],\n",
    "                                                  categorical_features_names=categorical_features_names)\n",
    "delayed_evaluation_result = step(evaluate, name=\"ShippingEval\")(model=delayed_model,\n",
    "                                                              test_df=delayed_data[2])\n",
    "\n",
    "steps = [delayed_evaluation_result]\n",
    "\n",
    "pipeline = Pipeline(\n",
    "    name=\"ShippingPipeline\",\n",
    "    parameters=[\n",
    "        instance_count,\n",
    "        instance_type,\n",
    "    ],\n",
    "    steps=steps,\n",
    "    sagemaker_session=pipeline_session\n",
    ")\n",
    "role = sagemaker.get_execution_role()\n",
    "pipeline.upsert(role_arn=role)\n",
    "execution = pipeline.start()\n"
   ]
  },
  {
   "cell_type": "code",
   "execution_count": 4,
   "id": "d45cf252-797f-4e10-ac42-9a6230af26e1",
   "metadata": {
    "tags": []
   },
   "outputs": [
    {
     "data": {
      "text/plain": [
       "[{'StepName': 'ShippingPreprocess',\n",
       "  'StartTime': datetime.datetime(2024, 2, 11, 23, 27, 57, 362000, tzinfo=tzlocal()),\n",
       "  'StepStatus': 'Executing',\n",
       "  'Metadata': {'TrainingJob': {'Arn': 'arn:aws:sagemaker:us-east-1:376337229415:training-job/pipelines-2xiedtcy98hu-ShippingPreprocess-V81jz3pBpV'}},\n",
       "  'AttemptCount': 1}]"
      ]
     },
     "execution_count": 4,
     "metadata": {},
     "output_type": "execute_result"
    }
   ],
   "source": [
    "execution.list_steps()"
   ]
  },
  {
   "cell_type": "code",
   "execution_count": 5,
   "id": "5acb5197-f3ac-4a31-9a6f-20bb1e26cd48",
   "metadata": {
    "tags": []
   },
   "outputs": [],
   "source": [
    "train, val, test = execution.result(step_name=\"ShippingPreprocess\")"
   ]
  },
  {
   "cell_type": "code",
   "execution_count": 6,
   "id": "21e7dfea-fe4f-40eb-a5af-5ee22dc93ce2",
   "metadata": {
    "tags": []
   },
   "outputs": [
    {
     "data": {
      "text/html": [
       "<div>\n",
       "<style scoped>\n",
       "    .dataframe tbody tr th:only-of-type {\n",
       "        vertical-align: middle;\n",
       "    }\n",
       "\n",
       "    .dataframe tbody tr th {\n",
       "        vertical-align: top;\n",
       "    }\n",
       "\n",
       "    .dataframe thead th {\n",
       "        text-align: right;\n",
       "    }\n",
       "</style>\n",
       "<table border=\"1\" class=\"dataframe\">\n",
       "  <thead>\n",
       "    <tr style=\"text-align: right;\">\n",
       "      <th></th>\n",
       "      <th>ActualShippingDays</th>\n",
       "      <th>ExpectedShippingDays</th>\n",
       "      <th>Carrier</th>\n",
       "      <th>YShippingDistance</th>\n",
       "      <th>XShippingDistance</th>\n",
       "      <th>InBulkOrder</th>\n",
       "      <th>ShippingOrigin</th>\n",
       "      <th>ShippingPriority</th>\n",
       "    </tr>\n",
       "  </thead>\n",
       "  <tbody>\n",
       "    <tr>\n",
       "      <th>280</th>\n",
       "      <td>14</td>\n",
       "      <td>13</td>\n",
       "      <td>Shipper</td>\n",
       "      <td>256</td>\n",
       "      <td>-15</td>\n",
       "      <td>Bulk Order</td>\n",
       "      <td>Seattle</td>\n",
       "      <td>Standard</td>\n",
       "    </tr>\n",
       "    <tr>\n",
       "      <th>660</th>\n",
       "      <td>18</td>\n",
       "      <td>18</td>\n",
       "      <td>Shipper</td>\n",
       "      <td>-256</td>\n",
       "      <td>-10</td>\n",
       "      <td>Single Order</td>\n",
       "      <td>San Francisco</td>\n",
       "      <td>Air</td>\n",
       "    </tr>\n",
       "    <tr>\n",
       "      <th>901</th>\n",
       "      <td>14</td>\n",
       "      <td>13</td>\n",
       "      <td>BigBird</td>\n",
       "      <td>20</td>\n",
       "      <td>-180</td>\n",
       "      <td>Bulk Order</td>\n",
       "      <td>Salt Lake City</td>\n",
       "      <td>Ground</td>\n",
       "    </tr>\n",
       "    <tr>\n",
       "      <th>510</th>\n",
       "      <td>10</td>\n",
       "      <td>11</td>\n",
       "      <td>Shipper</td>\n",
       "      <td>-140</td>\n",
       "      <td>17</td>\n",
       "      <td>Bulk Order</td>\n",
       "      <td>Houston</td>\n",
       "      <td>Express</td>\n",
       "    </tr>\n",
       "    <tr>\n",
       "      <th>48</th>\n",
       "      <td>28</td>\n",
       "      <td>18</td>\n",
       "      <td>BigBird</td>\n",
       "      <td>150</td>\n",
       "      <td>-63</td>\n",
       "      <td>Single Order</td>\n",
       "      <td>New York City</td>\n",
       "      <td>Ground</td>\n",
       "    </tr>\n",
       "    <tr>\n",
       "      <th>...</th>\n",
       "      <td>...</td>\n",
       "      <td>...</td>\n",
       "      <td>...</td>\n",
       "      <td>...</td>\n",
       "      <td>...</td>\n",
       "      <td>...</td>\n",
       "      <td>...</td>\n",
       "      <td>...</td>\n",
       "    </tr>\n",
       "    <tr>\n",
       "      <th>984</th>\n",
       "      <td>11</td>\n",
       "      <td>11</td>\n",
       "      <td>BigBird</td>\n",
       "      <td>79</td>\n",
       "      <td>71</td>\n",
       "      <td>Single Order</td>\n",
       "      <td>New York City</td>\n",
       "      <td>Express</td>\n",
       "    </tr>\n",
       "    <tr>\n",
       "      <th>789</th>\n",
       "      <td>14</td>\n",
       "      <td>14</td>\n",
       "      <td>BigBird</td>\n",
       "      <td>39</td>\n",
       "      <td>83</td>\n",
       "      <td>Single Order</td>\n",
       "      <td>Atlanta</td>\n",
       "      <td>Express</td>\n",
       "    </tr>\n",
       "    <tr>\n",
       "      <th>619</th>\n",
       "      <td>15</td>\n",
       "      <td>14</td>\n",
       "      <td>BigBird</td>\n",
       "      <td>-54</td>\n",
       "      <td>79</td>\n",
       "      <td>Single Order</td>\n",
       "      <td>Atlanta</td>\n",
       "      <td>Express</td>\n",
       "    </tr>\n",
       "    <tr>\n",
       "      <th>424</th>\n",
       "      <td>17</td>\n",
       "      <td>15</td>\n",
       "      <td>BigBird</td>\n",
       "      <td>-209</td>\n",
       "      <td>-8</td>\n",
       "      <td>Single Order</td>\n",
       "      <td>Houston</td>\n",
       "      <td>Ground</td>\n",
       "    </tr>\n",
       "    <tr>\n",
       "      <th>592</th>\n",
       "      <td>14</td>\n",
       "      <td>13</td>\n",
       "      <td>MicroCarrier</td>\n",
       "      <td>-185</td>\n",
       "      <td>-16</td>\n",
       "      <td>Bulk Order</td>\n",
       "      <td>New York City</td>\n",
       "      <td>Standard</td>\n",
       "    </tr>\n",
       "  </tbody>\n",
       "</table>\n",
       "<p>640 rows × 8 columns</p>\n",
       "</div>"
      ],
      "text/plain": [
       "     ActualShippingDays  ExpectedShippingDays       Carrier  \\\n",
       "280                  14                    13       Shipper   \n",
       "660                  18                    18       Shipper   \n",
       "901                  14                    13       BigBird   \n",
       "510                  10                    11       Shipper   \n",
       "48                   28                    18       BigBird   \n",
       "..                  ...                   ...           ...   \n",
       "984                  11                    11       BigBird   \n",
       "789                  14                    14       BigBird   \n",
       "619                  15                    14       BigBird   \n",
       "424                  17                    15       BigBird   \n",
       "592                  14                    13  MicroCarrier   \n",
       "\n",
       "     YShippingDistance  XShippingDistance   InBulkOrder  ShippingOrigin  \\\n",
       "280                256                -15    Bulk Order         Seattle   \n",
       "660               -256                -10  Single Order   San Francisco   \n",
       "901                 20               -180    Bulk Order  Salt Lake City   \n",
       "510               -140                 17    Bulk Order         Houston   \n",
       "48                 150                -63  Single Order   New York City   \n",
       "..                 ...                ...           ...             ...   \n",
       "984                 79                 71  Single Order   New York City   \n",
       "789                 39                 83  Single Order         Atlanta   \n",
       "619                -54                 79  Single Order         Atlanta   \n",
       "424               -209                 -8  Single Order         Houston   \n",
       "592               -185                -16    Bulk Order   New York City   \n",
       "\n",
       "    ShippingPriority  \n",
       "280         Standard  \n",
       "660              Air  \n",
       "901           Ground  \n",
       "510          Express  \n",
       "48            Ground  \n",
       "..               ...  \n",
       "984          Express  \n",
       "789          Express  \n",
       "619          Express  \n",
       "424           Ground  \n",
       "592         Standard  \n",
       "\n",
       "[640 rows x 8 columns]"
      ]
     },
     "execution_count": 6,
     "metadata": {},
     "output_type": "execute_result"
    }
   ],
   "source": [
    "train"
   ]
  },
  {
   "cell_type": "code",
   "execution_count": 7,
   "id": "985519df-605e-4d81-8c13-75cf232d04a1",
   "metadata": {
    "tags": []
   },
   "outputs": [
    {
     "data": {
      "text/plain": [
       "<catboost.core.CatBoostRegressor at 0x7f1670f46890>"
      ]
     },
     "execution_count": 7,
     "metadata": {},
     "output_type": "execute_result"
    }
   ],
   "source": [
    "execution.result(step_name=\"ShippingTrain\")"
   ]
  },
  {
   "cell_type": "code",
   "execution_count": 8,
   "id": "2f61c9c1-4bea-4c48-abda-8da702477bee",
   "metadata": {
    "tags": []
   },
   "outputs": [
    {
     "data": {
      "text/plain": [
       "{'regression_metrics': {'mse': {'value': 0.5919529590720277,\n",
       "   'standard_deviation': 0.7691113944992932}}}"
      ]
     },
     "execution_count": 8,
     "metadata": {},
     "output_type": "execute_result"
    }
   ],
   "source": [
    "execution.result(step_name=\"ShippingEval\")"
   ]
  },
  {
   "cell_type": "code",
   "execution_count": 13,
   "id": "57c6f6f1-17e5-4801-bca8-17ae2457b7ec",
   "metadata": {
    "tags": []
   },
   "outputs": [
    {
     "data": {
      "text/plain": [
       "<catboost.core.CatBoostRegressor at 0x7f167092ad70>"
      ]
     },
     "execution_count": 13,
     "metadata": {},
     "output_type": "execute_result"
    }
   ],
   "source": [
    "\n",
    "s3_file = S3FileSystem()\n",
    "bucket = \"sagemaker-us-east-1-376337229415\"\n",
    "key= \"ShippingPipeline/90cd8j1l6co1/ShippingTrain/results/payload.pkl\"\n",
    "data = pickle.load(s3_file.open('{}/{}'.format(bucket, key)))\n",
    "data"
   ]
  },
  {
   "cell_type": "code",
   "execution_count": 14,
   "id": "351eb9aa-d318-4ea9-bbcf-21488473fcd2",
   "metadata": {
    "tags": []
   },
   "outputs": [],
   "source": [
    "pipeline_execution_summaries = pipeline.list_executions()['PipelineExecutionSummaries']\n",
    "pipeline_execution_list = [{k:v for k,v in dct.items() if k != 'PipelineExecutionArn'} for dct in pipeline_execution_summaries]"
   ]
  },
  {
   "cell_type": "code",
   "execution_count": 15,
   "id": "54fc5bb9-3003-414b-8388-4e4337a208f6",
   "metadata": {
    "tags": []
   },
   "outputs": [
    {
     "data": {
      "text/plain": [
       "[{'StartTime': datetime.datetime(2024, 2, 11, 23, 27, 56, 39000, tzinfo=tzlocal()),\n",
       "  'PipelineExecutionStatus': 'Succeeded',\n",
       "  'PipelineExecutionDisplayName': 'execution-1707694076111'},\n",
       " {'StartTime': datetime.datetime(2024, 2, 11, 23, 16, 17, 754000, tzinfo=tzlocal()),\n",
       "  'PipelineExecutionStatus': 'Failed',\n",
       "  'PipelineExecutionDisplayName': 'execution-1707693377803',\n",
       "  'PipelineExecutionFailureReason': 'Step failure: One or multiple steps failed.'}]"
      ]
     },
     "execution_count": 15,
     "metadata": {},
     "output_type": "execute_result"
    }
   ],
   "source": [
    "pipeline_execution_list[:2] "
   ]
  }
 ],
 "metadata": {
  "kernelspec": {
   "display_name": "conda_python3",
   "language": "python",
   "name": "conda_python3"
  },
  "language_info": {
   "codemirror_mode": {
    "name": "ipython",
    "version": 3
   },
   "file_extension": ".py",
   "mimetype": "text/x-python",
   "name": "python",
   "nbconvert_exporter": "python",
   "pygments_lexer": "ipython3",
   "version": "3.10.13"
  },
  "toc-autonumbering": false
 },
 "nbformat": 4,
 "nbformat_minor": 5
}
