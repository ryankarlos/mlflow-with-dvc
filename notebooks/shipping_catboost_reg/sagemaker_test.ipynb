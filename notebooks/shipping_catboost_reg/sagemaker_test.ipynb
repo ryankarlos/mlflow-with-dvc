{
 "cells": [
  {
   "cell_type": "code",
   "execution_count": 60,
   "id": "5c57733c-0b1d-4cff-b264-d0963678e036",
   "metadata": {
    "tags": []
   },
   "outputs": [
    {
     "name": "stdout",
     "output_type": "stream",
     "text": [
      "Requirement already satisfied: sagemaker in /home/ec2-user/anaconda3/envs/python3/lib/python3.10/site-packages (from -r ./requirements.txt (line 1)) (2.206.0)\n",
      "Requirement already satisfied: pandas in /home/ec2-user/anaconda3/envs/python3/lib/python3.10/site-packages (from -r ./requirements.txt (line 2)) (2.1.1)\n",
      "Requirement already satisfied: catboost in /home/ec2-user/anaconda3/envs/python3/lib/python3.10/site-packages (from -r ./requirements.txt (line 3)) (1.2.2)\n",
      "Requirement already satisfied: scikit-learn in /home/ec2-user/anaconda3/envs/python3/lib/python3.10/site-packages (from -r ./requirements.txt (line 4)) (1.3.2)\n",
      "Requirement already satisfied: fsspec in /home/ec2-user/anaconda3/envs/python3/lib/python3.10/site-packages (from -r ./requirements.txt (line 5)) (2023.10.0)\n",
      "Requirement already satisfied: s3fs in /home/ec2-user/anaconda3/envs/python3/lib/python3.10/site-packages (from -r ./requirements.txt (line 6)) (0.4.2)\n",
      "Requirement already satisfied: ipywidgets in /home/ec2-user/anaconda3/envs/python3/lib/python3.10/site-packages (from -r ./requirements.txt (line 7)) (8.1.1)\n",
      "Requirement already satisfied: attrs<24,>=23.1.0 in /home/ec2-user/anaconda3/envs/python3/lib/python3.10/site-packages (from sagemaker->-r ./requirements.txt (line 1)) (23.1.0)\n",
      "Requirement already satisfied: boto3<2.0,>=1.33.3 in /home/ec2-user/anaconda3/envs/python3/lib/python3.10/site-packages (from sagemaker->-r ./requirements.txt (line 1)) (1.34.32)\n",
      "Requirement already satisfied: cloudpickle==2.2.1 in /home/ec2-user/anaconda3/envs/python3/lib/python3.10/site-packages (from sagemaker->-r ./requirements.txt (line 1)) (2.2.1)\n",
      "Requirement already satisfied: google-pasta in /home/ec2-user/anaconda3/envs/python3/lib/python3.10/site-packages (from sagemaker->-r ./requirements.txt (line 1)) (0.2.0)\n",
      "Requirement already satisfied: numpy<2.0,>=1.9.0 in /home/ec2-user/anaconda3/envs/python3/lib/python3.10/site-packages (from sagemaker->-r ./requirements.txt (line 1)) (1.22.4)\n",
      "Requirement already satisfied: protobuf<5.0,>=3.12 in /home/ec2-user/anaconda3/envs/python3/lib/python3.10/site-packages (from sagemaker->-r ./requirements.txt (line 1)) (4.25.2)\n",
      "Requirement already satisfied: smdebug-rulesconfig==1.0.1 in /home/ec2-user/anaconda3/envs/python3/lib/python3.10/site-packages (from sagemaker->-r ./requirements.txt (line 1)) (1.0.1)\n",
      "Requirement already satisfied: importlib-metadata<7.0,>=1.4.0 in /home/ec2-user/anaconda3/envs/python3/lib/python3.10/site-packages (from sagemaker->-r ./requirements.txt (line 1)) (6.8.0)\n",
      "Requirement already satisfied: packaging>=20.0 in /home/ec2-user/anaconda3/envs/python3/lib/python3.10/site-packages (from sagemaker->-r ./requirements.txt (line 1)) (21.3)\n",
      "Requirement already satisfied: pathos in /home/ec2-user/anaconda3/envs/python3/lib/python3.10/site-packages (from sagemaker->-r ./requirements.txt (line 1)) (0.3.2)\n",
      "Requirement already satisfied: schema in /home/ec2-user/anaconda3/envs/python3/lib/python3.10/site-packages (from sagemaker->-r ./requirements.txt (line 1)) (0.7.5)\n",
      "Requirement already satisfied: PyYAML~=6.0 in /home/ec2-user/anaconda3/envs/python3/lib/python3.10/site-packages (from sagemaker->-r ./requirements.txt (line 1)) (6.0.1)\n",
      "Requirement already satisfied: jsonschema in /home/ec2-user/anaconda3/envs/python3/lib/python3.10/site-packages (from sagemaker->-r ./requirements.txt (line 1)) (4.19.1)\n",
      "Requirement already satisfied: platformdirs in /home/ec2-user/anaconda3/envs/python3/lib/python3.10/site-packages (from sagemaker->-r ./requirements.txt (line 1)) (3.11.0)\n",
      "Requirement already satisfied: tblib<3,>=1.7.0 in /home/ec2-user/anaconda3/envs/python3/lib/python3.10/site-packages (from sagemaker->-r ./requirements.txt (line 1)) (2.0.0)\n",
      "Requirement already satisfied: urllib3<1.27 in /home/ec2-user/anaconda3/envs/python3/lib/python3.10/site-packages (from sagemaker->-r ./requirements.txt (line 1)) (1.26.18)\n",
      "Requirement already satisfied: requests in /home/ec2-user/anaconda3/envs/python3/lib/python3.10/site-packages (from sagemaker->-r ./requirements.txt (line 1)) (2.31.0)\n",
      "Requirement already satisfied: docker in /home/ec2-user/anaconda3/envs/python3/lib/python3.10/site-packages (from sagemaker->-r ./requirements.txt (line 1)) (6.1.3)\n",
      "Requirement already satisfied: tqdm in /home/ec2-user/anaconda3/envs/python3/lib/python3.10/site-packages (from sagemaker->-r ./requirements.txt (line 1)) (4.66.1)\n",
      "Requirement already satisfied: psutil in /home/ec2-user/anaconda3/envs/python3/lib/python3.10/site-packages (from sagemaker->-r ./requirements.txt (line 1)) (5.9.5)\n",
      "Requirement already satisfied: python-dateutil>=2.8.2 in /home/ec2-user/anaconda3/envs/python3/lib/python3.10/site-packages (from pandas->-r ./requirements.txt (line 2)) (2.8.2)\n",
      "Requirement already satisfied: pytz>=2020.1 in /home/ec2-user/anaconda3/envs/python3/lib/python3.10/site-packages (from pandas->-r ./requirements.txt (line 2)) (2023.3.post1)\n",
      "Requirement already satisfied: tzdata>=2022.1 in /home/ec2-user/anaconda3/envs/python3/lib/python3.10/site-packages (from pandas->-r ./requirements.txt (line 2)) (2023.3)\n",
      "Requirement already satisfied: graphviz in /home/ec2-user/anaconda3/envs/python3/lib/python3.10/site-packages (from catboost->-r ./requirements.txt (line 3)) (0.20.1)\n",
      "Requirement already satisfied: matplotlib in /home/ec2-user/anaconda3/envs/python3/lib/python3.10/site-packages (from catboost->-r ./requirements.txt (line 3)) (3.8.0)\n",
      "Requirement already satisfied: scipy in /home/ec2-user/anaconda3/envs/python3/lib/python3.10/site-packages (from catboost->-r ./requirements.txt (line 3)) (1.11.3)\n",
      "Requirement already satisfied: plotly in /home/ec2-user/anaconda3/envs/python3/lib/python3.10/site-packages (from catboost->-r ./requirements.txt (line 3)) (5.18.0)\n",
      "Requirement already satisfied: six in /home/ec2-user/anaconda3/envs/python3/lib/python3.10/site-packages (from catboost->-r ./requirements.txt (line 3)) (1.16.0)\n",
      "Requirement already satisfied: joblib>=1.1.1 in /home/ec2-user/anaconda3/envs/python3/lib/python3.10/site-packages (from scikit-learn->-r ./requirements.txt (line 4)) (1.3.2)\n",
      "Requirement already satisfied: threadpoolctl>=2.0.0 in /home/ec2-user/anaconda3/envs/python3/lib/python3.10/site-packages (from scikit-learn->-r ./requirements.txt (line 4)) (3.2.0)\n",
      "Requirement already satisfied: botocore>=1.12.91 in /home/ec2-user/anaconda3/envs/python3/lib/python3.10/site-packages (from s3fs->-r ./requirements.txt (line 6)) (1.34.32)\n",
      "Requirement already satisfied: comm>=0.1.3 in /home/ec2-user/anaconda3/envs/python3/lib/python3.10/site-packages (from ipywidgets->-r ./requirements.txt (line 7)) (0.1.4)\n",
      "Requirement already satisfied: ipython>=6.1.0 in /home/ec2-user/anaconda3/envs/python3/lib/python3.10/site-packages (from ipywidgets->-r ./requirements.txt (line 7)) (8.16.1)\n",
      "Requirement already satisfied: traitlets>=4.3.1 in /home/ec2-user/anaconda3/envs/python3/lib/python3.10/site-packages (from ipywidgets->-r ./requirements.txt (line 7)) (5.12.0)\n",
      "Requirement already satisfied: widgetsnbextension~=4.0.9 in /home/ec2-user/anaconda3/envs/python3/lib/python3.10/site-packages (from ipywidgets->-r ./requirements.txt (line 7)) (4.0.9)\n",
      "Requirement already satisfied: jupyterlab-widgets~=3.0.9 in /home/ec2-user/anaconda3/envs/python3/lib/python3.10/site-packages (from ipywidgets->-r ./requirements.txt (line 7)) (3.0.9)\n",
      "Requirement already satisfied: jmespath<2.0.0,>=0.7.1 in /home/ec2-user/anaconda3/envs/python3/lib/python3.10/site-packages (from boto3<2.0,>=1.33.3->sagemaker->-r ./requirements.txt (line 1)) (1.0.1)\n",
      "Requirement already satisfied: s3transfer<0.11.0,>=0.10.0 in /home/ec2-user/anaconda3/envs/python3/lib/python3.10/site-packages (from boto3<2.0,>=1.33.3->sagemaker->-r ./requirements.txt (line 1)) (0.10.0)\n",
      "Requirement already satisfied: zipp>=0.5 in /home/ec2-user/anaconda3/envs/python3/lib/python3.10/site-packages (from importlib-metadata<7.0,>=1.4.0->sagemaker->-r ./requirements.txt (line 1)) (3.17.0)\n",
      "Requirement already satisfied: backcall in /home/ec2-user/anaconda3/envs/python3/lib/python3.10/site-packages (from ipython>=6.1.0->ipywidgets->-r ./requirements.txt (line 7)) (0.2.0)\n",
      "Requirement already satisfied: decorator in /home/ec2-user/anaconda3/envs/python3/lib/python3.10/site-packages (from ipython>=6.1.0->ipywidgets->-r ./requirements.txt (line 7)) (5.1.1)\n",
      "Requirement already satisfied: jedi>=0.16 in /home/ec2-user/anaconda3/envs/python3/lib/python3.10/site-packages (from ipython>=6.1.0->ipywidgets->-r ./requirements.txt (line 7)) (0.18.2)\n",
      "Requirement already satisfied: matplotlib-inline in /home/ec2-user/anaconda3/envs/python3/lib/python3.10/site-packages (from ipython>=6.1.0->ipywidgets->-r ./requirements.txt (line 7)) (0.1.6)\n",
      "Requirement already satisfied: pickleshare in /home/ec2-user/anaconda3/envs/python3/lib/python3.10/site-packages (from ipython>=6.1.0->ipywidgets->-r ./requirements.txt (line 7)) (0.7.5)\n",
      "Requirement already satisfied: prompt-toolkit!=3.0.37,<3.1.0,>=3.0.30 in /home/ec2-user/anaconda3/envs/python3/lib/python3.10/site-packages (from ipython>=6.1.0->ipywidgets->-r ./requirements.txt (line 7)) (3.0.39)\n",
      "Requirement already satisfied: pygments>=2.4.0 in /home/ec2-user/anaconda3/envs/python3/lib/python3.10/site-packages (from ipython>=6.1.0->ipywidgets->-r ./requirements.txt (line 7)) (2.16.1)\n",
      "Requirement already satisfied: stack-data in /home/ec2-user/anaconda3/envs/python3/lib/python3.10/site-packages (from ipython>=6.1.0->ipywidgets->-r ./requirements.txt (line 7)) (0.6.2)\n",
      "Requirement already satisfied: exceptiongroup in /home/ec2-user/anaconda3/envs/python3/lib/python3.10/site-packages (from ipython>=6.1.0->ipywidgets->-r ./requirements.txt (line 7)) (1.1.3)\n",
      "Requirement already satisfied: pexpect>4.3 in /home/ec2-user/anaconda3/envs/python3/lib/python3.10/site-packages (from ipython>=6.1.0->ipywidgets->-r ./requirements.txt (line 7)) (4.8.0)\n",
      "Requirement already satisfied: pyparsing!=3.0.5,>=2.0.2 in /home/ec2-user/anaconda3/envs/python3/lib/python3.10/site-packages (from packaging>=20.0->sagemaker->-r ./requirements.txt (line 1)) (3.1.1)\n",
      "Requirement already satisfied: websocket-client>=0.32.0 in /home/ec2-user/anaconda3/envs/python3/lib/python3.10/site-packages (from docker->sagemaker->-r ./requirements.txt (line 1)) (1.6.4)\n",
      "Requirement already satisfied: charset-normalizer<4,>=2 in /home/ec2-user/anaconda3/envs/python3/lib/python3.10/site-packages (from requests->sagemaker->-r ./requirements.txt (line 1)) (3.3.1)\n",
      "Requirement already satisfied: idna<4,>=2.5 in /home/ec2-user/anaconda3/envs/python3/lib/python3.10/site-packages (from requests->sagemaker->-r ./requirements.txt (line 1)) (3.4)\n",
      "Requirement already satisfied: certifi>=2017.4.17 in /home/ec2-user/anaconda3/envs/python3/lib/python3.10/site-packages (from requests->sagemaker->-r ./requirements.txt (line 1)) (2023.7.22)\n",
      "Requirement already satisfied: jsonschema-specifications>=2023.03.6 in /home/ec2-user/anaconda3/envs/python3/lib/python3.10/site-packages (from jsonschema->sagemaker->-r ./requirements.txt (line 1)) (2023.7.1)\n",
      "Requirement already satisfied: referencing>=0.28.4 in /home/ec2-user/anaconda3/envs/python3/lib/python3.10/site-packages (from jsonschema->sagemaker->-r ./requirements.txt (line 1)) (0.30.2)\n",
      "Requirement already satisfied: rpds-py>=0.7.1 in /home/ec2-user/anaconda3/envs/python3/lib/python3.10/site-packages (from jsonschema->sagemaker->-r ./requirements.txt (line 1)) (0.10.6)\n",
      "Requirement already satisfied: contourpy>=1.0.1 in /home/ec2-user/anaconda3/envs/python3/lib/python3.10/site-packages (from matplotlib->catboost->-r ./requirements.txt (line 3)) (1.1.1)\n",
      "Requirement already satisfied: cycler>=0.10 in /home/ec2-user/anaconda3/envs/python3/lib/python3.10/site-packages (from matplotlib->catboost->-r ./requirements.txt (line 3)) (0.12.1)\n",
      "Requirement already satisfied: fonttools>=4.22.0 in /home/ec2-user/anaconda3/envs/python3/lib/python3.10/site-packages (from matplotlib->catboost->-r ./requirements.txt (line 3)) (4.43.1)\n",
      "Requirement already satisfied: kiwisolver>=1.0.1 in /home/ec2-user/anaconda3/envs/python3/lib/python3.10/site-packages (from matplotlib->catboost->-r ./requirements.txt (line 3)) (1.4.5)\n",
      "Requirement already satisfied: pillow>=6.2.0 in /home/ec2-user/anaconda3/envs/python3/lib/python3.10/site-packages (from matplotlib->catboost->-r ./requirements.txt (line 3)) (10.0.1)\n",
      "Requirement already satisfied: ppft>=1.7.6.8 in /home/ec2-user/anaconda3/envs/python3/lib/python3.10/site-packages (from pathos->sagemaker->-r ./requirements.txt (line 1)) (1.7.6.8)\n",
      "Requirement already satisfied: dill>=0.3.8 in /home/ec2-user/anaconda3/envs/python3/lib/python3.10/site-packages (from pathos->sagemaker->-r ./requirements.txt (line 1)) (0.3.8)\n",
      "Requirement already satisfied: pox>=0.3.4 in /home/ec2-user/anaconda3/envs/python3/lib/python3.10/site-packages (from pathos->sagemaker->-r ./requirements.txt (line 1)) (0.3.4)\n",
      "Requirement already satisfied: multiprocess>=0.70.16 in /home/ec2-user/anaconda3/envs/python3/lib/python3.10/site-packages (from pathos->sagemaker->-r ./requirements.txt (line 1)) (0.70.16)\n",
      "Requirement already satisfied: tenacity>=6.2.0 in /home/ec2-user/anaconda3/envs/python3/lib/python3.10/site-packages (from plotly->catboost->-r ./requirements.txt (line 3)) (8.2.3)\n",
      "Requirement already satisfied: contextlib2>=0.5.5 in /home/ec2-user/anaconda3/envs/python3/lib/python3.10/site-packages (from schema->sagemaker->-r ./requirements.txt (line 1)) (21.6.0)\n",
      "Requirement already satisfied: parso<0.9.0,>=0.8.0 in /home/ec2-user/anaconda3/envs/python3/lib/python3.10/site-packages (from jedi>=0.16->ipython>=6.1.0->ipywidgets->-r ./requirements.txt (line 7)) (0.8.3)\n",
      "Requirement already satisfied: ptyprocess>=0.5 in /home/ec2-user/anaconda3/envs/python3/lib/python3.10/site-packages (from pexpect>4.3->ipython>=6.1.0->ipywidgets->-r ./requirements.txt (line 7)) (0.7.0)\n",
      "Requirement already satisfied: wcwidth in /home/ec2-user/anaconda3/envs/python3/lib/python3.10/site-packages (from prompt-toolkit!=3.0.37,<3.1.0,>=3.0.30->ipython>=6.1.0->ipywidgets->-r ./requirements.txt (line 7)) (0.2.8)\n",
      "Requirement already satisfied: executing>=1.2.0 in /home/ec2-user/anaconda3/envs/python3/lib/python3.10/site-packages (from stack-data->ipython>=6.1.0->ipywidgets->-r ./requirements.txt (line 7)) (1.2.0)\n",
      "Requirement already satisfied: asttokens>=2.1.0 in /home/ec2-user/anaconda3/envs/python3/lib/python3.10/site-packages (from stack-data->ipython>=6.1.0->ipywidgets->-r ./requirements.txt (line 7)) (2.4.1)\n",
      "Requirement already satisfied: pure-eval in /home/ec2-user/anaconda3/envs/python3/lib/python3.10/site-packages (from stack-data->ipython>=6.1.0->ipywidgets->-r ./requirements.txt (line 7)) (0.2.2)\n",
      "Completed running the processing job\n"
     ]
    },
    {
     "data": {
      "application/vnd.jupyter.widget-view+json": {
       "model_id": "95ca6a0eb3324428a554cd5a7099e097",
       "version_major": 2,
       "version_minor": 0
      },
      "text/plain": [
       "MetricVisualizer(layout=Layout(align_self='stretch', height='500px'))"
      ]
     },
     "metadata": {},
     "output_type": "display_data"
    },
    {
     "name": "stdout",
     "output_type": "stream",
     "text": [
      "0:\tlearn: 2.2410334\ttest: 2.3993268\tbest: 2.3993268 (0)\ttotal: 2.49ms\tremaining: 9.95s\n",
      "2000:\tlearn: 0.4448381\ttest: 0.8959218\tbest: 0.8959218 (2000)\ttotal: 4.75s\tremaining: 4.75s\n",
      "3999:\tlearn: 0.2990407\ttest: 0.8893453\tbest: 0.8893406 (3998)\ttotal: 9.85s\tremaining: 0us\n",
      "\n",
      "bestTest = 0.8893405541\n",
      "bestIteration = 3998\n",
      "\n",
      "Shrink model to first 3999 iterations.\n",
      "evaluation report: {'regression_metrics': {'mse': {'value': 0.466421757666663, 'standard_deviation': 0.6827846904969538}}}\n"
     ]
    }
   ],
   "source": [
    "!pip install -r ./requirements.txt\n",
    "\n",
    "\n",
    "import pandas as pd\n",
    "\n",
    "import numpy as np\n",
    "\n",
    "import os\n",
    "from catboost import CatBoost, CatBoostRegressor, Pool\n",
    "\n",
    "from sklearn.metrics import mean_squared_error\n",
    "\n",
    "from sklearn.model_selection import train_test_split\n",
    "import sagemaker\n",
    "\n",
    "import os\n",
    "\n",
    "\n",
    "def preprocess(raw_data):\n",
    "    df = pd.read_csv(raw_data)\n",
    "    df.drop(['ProductId', 'OrderID', 'OnTimeDelivery', 'OrderDate'], axis=1, inplace=True)\n",
    "    train, test = train_test_split(df, test_size=0.2)\n",
    "    train, validation = train_test_split(train, test_size=0.2)\n",
    "    print(\"Completed running the processing job\")\n",
    "    return pd.DataFrame(train), pd.DataFrame(validation), pd.DataFrame(test)\n",
    "\n",
    "\n",
    "\n",
    "def train(\n",
    "    train_df,\n",
    "    validation_df,\n",
    "    categorical_features_names,\n",
    "    target = \"ExpectedShippingDays\",\n",
    "    iterations=100,\n",
    "    learning_rate=0.01,\n",
    "    n_estimators=4000,\n",
    "):\n",
    "    y_train = train_df.loc[:, target]\n",
    "    train_df.drop([target], axis=1, inplace=True)\n",
    "    y_validation = validation_df.loc[:, target]\n",
    "    validation_df.drop([target], axis=1, inplace=True)\n",
    "    train_pool = Pool(train_df, label=y_train, cat_features=categorical_features_names)\n",
    "    val_pool = Pool(validation_df, label=y_validation, cat_features=categorical_features_names)\n",
    "    model = CatBoostRegressor(custom_metric= ['R2', 'RMSE'], learning_rate=learning_rate, n_estimators=n_estimators)\n",
    "    model.fit(train_pool, eval_set=val_pool, verbose=2000, plot=True)\n",
    "    return model\n",
    "\n",
    "\n",
    "\n",
    "def evaluate(model, test_df,target = \"ExpectedShippingDays\",):\n",
    "    y_test = test_df.loc[:, target]\n",
    "    test_df.drop([target], axis=1, inplace=True)\n",
    "    predictions = model.predict(test_df)\n",
    "\n",
    "    mse = mean_squared_error(y_test, predictions)\n",
    "    std = np.std(y_test - predictions)\n",
    "    report_dict = {\n",
    "        \"regression_metrics\": {\n",
    "            \"mse\": {\"value\": mse, \"standard_deviation\": std},\n",
    "        },\n",
    "    }\n",
    "    return report_dict\n",
    "\n",
    "\n",
    "csv_path = f\"canvas-sample-shipping-logs.csv\"\n",
    "\n",
    "train_df, val_df, test_df = preprocess(csv_path)\n",
    "categorical_features_names = ['ShippingPriority' ,'ShippingOrigin', 'InBulkOrder', 'Carrier']\n",
    "model = train(train_df, val_df, categorical_features_names)\n",
    "report = evaluate(model, test_df)\n",
    "print(f\"evaluation report: {report}\")"
   ]
  },
  {
   "cell_type": "code",
   "execution_count": 61,
   "id": "fd74ca92-eb0d-4142-8f61-db0b44d53089",
   "metadata": {
    "tags": []
   },
   "outputs": [
    {
     "name": "stdout",
     "output_type": "stream",
     "text": [
      "sagemaker.config INFO - Applied value from config key = SageMaker.PythonSDK.Modules.RemoteFunction.Dependencies\n",
      "sagemaker.config INFO - Applied value from config key = SageMaker.PythonSDK.Modules.RemoteFunction.IncludeLocalWorkDir\n",
      "sagemaker.config INFO - Applied value from config key = SageMaker.PythonSDK.Modules.RemoteFunction.CustomFileFilter.IgnoreNamePatterns\n",
      "sagemaker.config INFO - Applied value from config key = SageMaker.PythonSDK.Modules.RemoteFunction.InstanceType\n"
     ]
    },
    {
     "name": "stderr",
     "output_type": "stream",
     "text": [
      "2024-02-11 21:01:59,691 sagemaker.remote_function INFO     Uploading serialized function code to s3://sagemaker-us-east-1-376337229415/ShippingPipeline/ShippingEval/2024-02-11-21-01-56-816/function\n",
      "2024-02-11 21:01:59,814 sagemaker.remote_function INFO     Uploading serialized function arguments to s3://sagemaker-us-east-1-376337229415/ShippingPipeline/ShippingEval/2024-02-11-21-01-56-816/arguments\n",
      "2024-02-11 21:02:00,078 sagemaker.remote_function INFO     Copied dependencies file at './requirements.txt' to '/tmp/tmp01kgfr6p/requirements.txt'\n",
      "2024-02-11 21:02:00,140 sagemaker.remote_function INFO     Successfully uploaded dependencies and pre execution scripts to 's3://sagemaker-us-east-1-376337229415/ShippingPipeline/ShippingEval/2024-02-11-21-01-56-816/pre_exec_script_and_dependencies'\n",
      "2024-02-11 21:02:00,149 sagemaker.remote_function INFO     Copied user workspace to '/tmp/tmprwmmz8i5/temp_workspace/sagemaker_remote_function_workspace'\n",
      "2024-02-11 21:02:00,282 sagemaker.remote_function INFO     Successfully created workdir archive at '/tmp/tmprwmmz8i5/workspace.zip'\n",
      "2024-02-11 21:02:00,451 sagemaker.remote_function INFO     Successfully uploaded workdir to 's3://sagemaker-us-east-1-376337229415/ShippingPipeline/sm_rf_user_ws/2024-02-11-21-01-56-816/workspace.zip'\n",
      "WARNING:sagemaker.workflow.utilities:Popping out 'TrainingJobName' from the pipeline definition by default since it will be overridden at pipeline execution time. Please utilize the PipelineDefinitionConfig to persist this field in the pipeline definition if desired.\n"
     ]
    },
    {
     "name": "stdout",
     "output_type": "stream",
     "text": [
      "sagemaker.config INFO - Applied value from config key = SageMaker.PythonSDK.Modules.RemoteFunction.Dependencies\n",
      "sagemaker.config INFO - Applied value from config key = SageMaker.PythonSDK.Modules.RemoteFunction.IncludeLocalWorkDir\n",
      "sagemaker.config INFO - Applied value from config key = SageMaker.PythonSDK.Modules.RemoteFunction.CustomFileFilter.IgnoreNamePatterns\n",
      "sagemaker.config INFO - Applied value from config key = SageMaker.PythonSDK.Modules.RemoteFunction.InstanceType\n"
     ]
    },
    {
     "name": "stderr",
     "output_type": "stream",
     "text": [
      "2024-02-11 21:02:03,040 sagemaker.remote_function INFO     Uploading serialized function code to s3://sagemaker-us-east-1-376337229415/ShippingPipeline/ShippingTrain/2024-02-11-21-01-56-816/function\n",
      "2024-02-11 21:02:03,126 sagemaker.remote_function INFO     Uploading serialized function arguments to s3://sagemaker-us-east-1-376337229415/ShippingPipeline/ShippingTrain/2024-02-11-21-01-56-816/arguments\n",
      "2024-02-11 21:02:03,242 sagemaker.remote_function INFO     Copied dependencies file at './requirements.txt' to '/tmp/tmpodtwx81t/requirements.txt'\n",
      "2024-02-11 21:02:03,271 sagemaker.remote_function INFO     Successfully uploaded dependencies and pre execution scripts to 's3://sagemaker-us-east-1-376337229415/ShippingPipeline/ShippingTrain/2024-02-11-21-01-56-816/pre_exec_script_and_dependencies'\n",
      "WARNING:sagemaker.workflow.utilities:Popping out 'TrainingJobName' from the pipeline definition by default since it will be overridden at pipeline execution time. Please utilize the PipelineDefinitionConfig to persist this field in the pipeline definition if desired.\n"
     ]
    },
    {
     "name": "stdout",
     "output_type": "stream",
     "text": [
      "sagemaker.config INFO - Applied value from config key = SageMaker.PythonSDK.Modules.RemoteFunction.Dependencies\n",
      "sagemaker.config INFO - Applied value from config key = SageMaker.PythonSDK.Modules.RemoteFunction.IncludeLocalWorkDir\n",
      "sagemaker.config INFO - Applied value from config key = SageMaker.PythonSDK.Modules.RemoteFunction.CustomFileFilter.IgnoreNamePatterns\n",
      "sagemaker.config INFO - Applied value from config key = SageMaker.PythonSDK.Modules.RemoteFunction.InstanceType\n"
     ]
    },
    {
     "name": "stderr",
     "output_type": "stream",
     "text": [
      "2024-02-11 21:02:05,852 sagemaker.remote_function INFO     Uploading serialized function code to s3://sagemaker-us-east-1-376337229415/ShippingPipeline/ShippingPreprocess/2024-02-11-21-01-56-816/function\n",
      "2024-02-11 21:02:05,939 sagemaker.remote_function INFO     Uploading serialized function arguments to s3://sagemaker-us-east-1-376337229415/ShippingPipeline/ShippingPreprocess/2024-02-11-21-01-56-816/arguments\n",
      "2024-02-11 21:02:06,004 sagemaker.remote_function INFO     Copied dependencies file at './requirements.txt' to '/tmp/tmpu0tg_898/requirements.txt'\n",
      "2024-02-11 21:02:06,035 sagemaker.remote_function INFO     Successfully uploaded dependencies and pre execution scripts to 's3://sagemaker-us-east-1-376337229415/ShippingPipeline/ShippingPreprocess/2024-02-11-21-01-56-816/pre_exec_script_and_dependencies'\n",
      "WARNING:sagemaker.workflow.utilities:Popping out 'TrainingJobName' from the pipeline definition by default since it will be overridden at pipeline execution time. Please utilize the PipelineDefinitionConfig to persist this field in the pipeline definition if desired.\n",
      "2024-02-11 21:02:06,427 sagemaker.remote_function INFO     Uploading serialized function code to s3://sagemaker-us-east-1-376337229415/ShippingPipeline/ShippingEval/2024-02-11-21-02-06-427/function\n",
      "2024-02-11 21:02:06,552 sagemaker.remote_function INFO     Uploading serialized function arguments to s3://sagemaker-us-east-1-376337229415/ShippingPipeline/ShippingEval/2024-02-11-21-02-06-427/arguments\n",
      "2024-02-11 21:02:06,872 sagemaker.remote_function INFO     Copied dependencies file at './requirements.txt' to '/tmp/tmp1hmwtsmb/requirements.txt'\n",
      "2024-02-11 21:02:06,899 sagemaker.remote_function INFO     Successfully uploaded dependencies and pre execution scripts to 's3://sagemaker-us-east-1-376337229415/ShippingPipeline/ShippingEval/2024-02-11-21-02-06-427/pre_exec_script_and_dependencies'\n",
      "2024-02-11 21:02:06,905 sagemaker.remote_function INFO     Copied user workspace to '/tmp/tmpdw7j1rhn/temp_workspace/sagemaker_remote_function_workspace'\n",
      "2024-02-11 21:02:07,044 sagemaker.remote_function INFO     Successfully created workdir archive at '/tmp/tmpdw7j1rhn/workspace.zip'\n",
      "2024-02-11 21:02:07,154 sagemaker.remote_function INFO     Successfully uploaded workdir to 's3://sagemaker-us-east-1-376337229415/ShippingPipeline/sm_rf_user_ws/2024-02-11-21-02-06-427/workspace.zip'\n",
      "WARNING:sagemaker.workflow.utilities:Popping out 'TrainingJobName' from the pipeline definition by default since it will be overridden at pipeline execution time. Please utilize the PipelineDefinitionConfig to persist this field in the pipeline definition if desired.\n",
      "2024-02-11 21:02:07,159 sagemaker.remote_function INFO     Uploading serialized function code to s3://sagemaker-us-east-1-376337229415/ShippingPipeline/ShippingTrain/2024-02-11-21-02-06-427/function\n",
      "2024-02-11 21:02:07,289 sagemaker.remote_function INFO     Uploading serialized function arguments to s3://sagemaker-us-east-1-376337229415/ShippingPipeline/ShippingTrain/2024-02-11-21-02-06-427/arguments\n",
      "2024-02-11 21:02:07,401 sagemaker.remote_function INFO     Copied dependencies file at './requirements.txt' to '/tmp/tmpuw1j8o5b/requirements.txt'\n",
      "2024-02-11 21:02:07,434 sagemaker.remote_function INFO     Successfully uploaded dependencies and pre execution scripts to 's3://sagemaker-us-east-1-376337229415/ShippingPipeline/ShippingTrain/2024-02-11-21-02-06-427/pre_exec_script_and_dependencies'\n",
      "WARNING:sagemaker.workflow.utilities:Popping out 'TrainingJobName' from the pipeline definition by default since it will be overridden at pipeline execution time. Please utilize the PipelineDefinitionConfig to persist this field in the pipeline definition if desired.\n",
      "2024-02-11 21:02:07,439 sagemaker.remote_function INFO     Uploading serialized function code to s3://sagemaker-us-east-1-376337229415/ShippingPipeline/ShippingPreprocess/2024-02-11-21-02-06-427/function\n",
      "2024-02-11 21:02:07,523 sagemaker.remote_function INFO     Uploading serialized function arguments to s3://sagemaker-us-east-1-376337229415/ShippingPipeline/ShippingPreprocess/2024-02-11-21-02-06-427/arguments\n",
      "2024-02-11 21:02:07,645 sagemaker.remote_function INFO     Copied dependencies file at './requirements.txt' to '/tmp/tmpbofrbop7/requirements.txt'\n",
      "2024-02-11 21:02:07,679 sagemaker.remote_function INFO     Successfully uploaded dependencies and pre execution scripts to 's3://sagemaker-us-east-1-376337229415/ShippingPipeline/ShippingPreprocess/2024-02-11-21-02-06-427/pre_exec_script_and_dependencies'\n",
      "WARNING:sagemaker.workflow.utilities:Popping out 'TrainingJobName' from the pipeline definition by default since it will be overridden at pipeline execution time. Please utilize the PipelineDefinitionConfig to persist this field in the pipeline definition if desired.\n"
     ]
    }
   ],
   "source": [
    "from sagemaker.workflow.pipeline_context import PipelineSession\n",
    "from sagemaker.workflow.pipeline import Pipeline\n",
    "from sagemaker import get_execution_role\n",
    "from sagemaker.workflow.parameters import (\n",
    "    ParameterInteger,\n",
    "    ParameterString,\n",
    ")\n",
    "from sagemaker.workflow.function_step import step\n",
    "\n",
    "!sudo chmod 777 lost+found\n",
    "\n",
    "\n",
    "pipeline_session = PipelineSession()\n",
    "region = pipeline_session.boto_region_name\n",
    "default_bucket = pipeline_session.default_bucket()\n",
    "input_path = f\"s3://{default_bucket}/canvas/sample_dataset/canvas-sample-shipping-logs.csv\"\n",
    "\n",
    "# Set path to config file\n",
    "os.environ[\"SAGEMAKER_USER_CONFIG_OVERRIDE\"] = os.getcwd()\n",
    "\n",
    "\n",
    "categorical_features_names = ['ShippingPriority' ,'ShippingOrigin', 'InBulkOrder', 'Carrier']\n",
    "instance_count = ParameterInteger(\n",
    "    name=\"InstanceCount\",\n",
    "    default_value=1\n",
    ")\n",
    "\n",
    "instance_type = ParameterString(\n",
    "    name=\"InstanceType\",\n",
    "    default_value='ml.m5.large'\n",
    ")\n",
    "\n",
    "\n",
    "delayed_data = step(preprocess, name=\"ShippingPreprocess\")(input_path)\n",
    "delayed_model = step(train, name=\"ShippingTrain\")(train_df=delayed_data[0],\n",
    "                                                  validation_df=delayed_data[1],\n",
    "                                                  categorical_features_names=categorical_features_names)\n",
    "delayed_evaluation_result = step(evaluate, name=\"ShippingEval\")(model=delayed_model,\n",
    "                                                              test_df=delayed_data[2])\n",
    "\n",
    "steps = [delayed_evaluation_result]\n",
    "\n",
    "pipeline = Pipeline(\n",
    "    name=\"ShippingPipeline\",\n",
    "    parameters=[\n",
    "        instance_count,\n",
    "        instance_type,\n",
    "    ],\n",
    "    steps=steps,\n",
    "    sagemaker_session=pipeline_session\n",
    ")\n",
    "role = sagemaker.get_execution_role()\n",
    "pipeline.upsert(role_arn=role)\n",
    "execution = pipeline.start()\n"
   ]
  },
  {
   "cell_type": "code",
   "execution_count": 63,
   "id": "d45cf252-797f-4e10-ac42-9a6230af26e1",
   "metadata": {
    "tags": []
   },
   "outputs": [
    {
     "data": {
      "text/plain": [
       "[{'StepName': 'ShippingPreprocess',\n",
       "  'StartTime': datetime.datetime(2024, 2, 11, 21, 2, 9, 324000, tzinfo=tzlocal()),\n",
       "  'StepStatus': 'Starting',\n",
       "  'Metadata': {},\n",
       "  'AttemptCount': 1}]"
      ]
     },
     "execution_count": 63,
     "metadata": {},
     "output_type": "execute_result"
    }
   ],
   "source": [
    "execution.list_steps()"
   ]
  },
  {
   "cell_type": "code",
   "execution_count": null,
   "id": "5acb5197-f3ac-4a31-9a6f-20bb1e26cd48",
   "metadata": {
    "tags": []
   },
   "outputs": [],
   "source": [
    "train, val, test = execution.result(step_name=\"ShippingPreprocess\")"
   ]
  },
  {
   "cell_type": "code",
   "execution_count": null,
   "id": "21e7dfea-fe4f-40eb-a5af-5ee22dc93ce2",
   "metadata": {
    "tags": []
   },
   "outputs": [
    {
     "data": {
      "text/html": [
       "<div>\n",
       "<style scoped>\n",
       "    .dataframe tbody tr th:only-of-type {\n",
       "        vertical-align: middle;\n",
       "    }\n",
       "\n",
       "    .dataframe tbody tr th {\n",
       "        vertical-align: top;\n",
       "    }\n",
       "\n",
       "    .dataframe thead th {\n",
       "        text-align: right;\n",
       "    }\n",
       "</style>\n",
       "<table border=\"1\" class=\"dataframe\">\n",
       "  <thead>\n",
       "    <tr style=\"text-align: right;\">\n",
       "      <th></th>\n",
       "      <th>ActualShippingDays</th>\n",
       "      <th>ExpectedShippingDays</th>\n",
       "      <th>Carrier</th>\n",
       "      <th>YShippingDistance</th>\n",
       "      <th>XShippingDistance</th>\n",
       "      <th>InBulkOrder</th>\n",
       "      <th>ShippingOrigin</th>\n",
       "      <th>ShippingPriority</th>\n",
       "    </tr>\n",
       "  </thead>\n",
       "  <tbody>\n",
       "    <tr>\n",
       "      <th>257</th>\n",
       "      <td>12</td>\n",
       "      <td>12</td>\n",
       "      <td>MicroCarrier</td>\n",
       "      <td>-105</td>\n",
       "      <td>59</td>\n",
       "      <td>Bulk Order</td>\n",
       "      <td>Las Vegas</td>\n",
       "      <td>Air</td>\n",
       "    </tr>\n",
       "    <tr>\n",
       "      <th>155</th>\n",
       "      <td>13</td>\n",
       "      <td>13</td>\n",
       "      <td>BigBird</td>\n",
       "      <td>36</td>\n",
       "      <td>-100</td>\n",
       "      <td>Bulk Order</td>\n",
       "      <td>New York City</td>\n",
       "      <td>Standard</td>\n",
       "    </tr>\n",
       "    <tr>\n",
       "      <th>191</th>\n",
       "      <td>14</td>\n",
       "      <td>14</td>\n",
       "      <td>BigBird</td>\n",
       "      <td>176</td>\n",
       "      <td>22</td>\n",
       "      <td>Single Order</td>\n",
       "      <td>San Francisco</td>\n",
       "      <td>Express</td>\n",
       "    </tr>\n",
       "    <tr>\n",
       "      <th>607</th>\n",
       "      <td>12</td>\n",
       "      <td>13</td>\n",
       "      <td>BigBird</td>\n",
       "      <td>-87</td>\n",
       "      <td>-55</td>\n",
       "      <td>Single Order</td>\n",
       "      <td>Atlanta</td>\n",
       "      <td>Air</td>\n",
       "    </tr>\n",
       "    <tr>\n",
       "      <th>643</th>\n",
       "      <td>18</td>\n",
       "      <td>13</td>\n",
       "      <td>BigBird</td>\n",
       "      <td>77</td>\n",
       "      <td>134</td>\n",
       "      <td>Bulk Order</td>\n",
       "      <td>Houston</td>\n",
       "      <td>Standard</td>\n",
       "    </tr>\n",
       "    <tr>\n",
       "      <th>...</th>\n",
       "      <td>...</td>\n",
       "      <td>...</td>\n",
       "      <td>...</td>\n",
       "      <td>...</td>\n",
       "      <td>...</td>\n",
       "      <td>...</td>\n",
       "      <td>...</td>\n",
       "      <td>...</td>\n",
       "    </tr>\n",
       "    <tr>\n",
       "      <th>239</th>\n",
       "      <td>15</td>\n",
       "      <td>14</td>\n",
       "      <td>GlobalFreight</td>\n",
       "      <td>-167</td>\n",
       "      <td>-13</td>\n",
       "      <td>Bulk Order</td>\n",
       "      <td>New York City</td>\n",
       "      <td>Ground</td>\n",
       "    </tr>\n",
       "    <tr>\n",
       "      <th>185</th>\n",
       "      <td>13</td>\n",
       "      <td>14</td>\n",
       "      <td>GlobalFreight</td>\n",
       "      <td>-183</td>\n",
       "      <td>30</td>\n",
       "      <td>Bulk Order</td>\n",
       "      <td>Houston</td>\n",
       "      <td>Standard</td>\n",
       "    </tr>\n",
       "    <tr>\n",
       "      <th>625</th>\n",
       "      <td>13</td>\n",
       "      <td>12</td>\n",
       "      <td>Shipper</td>\n",
       "      <td>-251</td>\n",
       "      <td>76</td>\n",
       "      <td>Bulk Order</td>\n",
       "      <td>Seattle</td>\n",
       "      <td>Air</td>\n",
       "    </tr>\n",
       "    <tr>\n",
       "      <th>719</th>\n",
       "      <td>10</td>\n",
       "      <td>11</td>\n",
       "      <td>BigBird</td>\n",
       "      <td>156</td>\n",
       "      <td>35</td>\n",
       "      <td>Single Order</td>\n",
       "      <td>Salt Lake City</td>\n",
       "      <td>Express</td>\n",
       "    </tr>\n",
       "    <tr>\n",
       "      <th>389</th>\n",
       "      <td>10</td>\n",
       "      <td>10</td>\n",
       "      <td>Shipper</td>\n",
       "      <td>-54</td>\n",
       "      <td>-64</td>\n",
       "      <td>Bulk Order</td>\n",
       "      <td>Salt Lake City</td>\n",
       "      <td>Air</td>\n",
       "    </tr>\n",
       "  </tbody>\n",
       "</table>\n",
       "<p>640 rows × 8 columns</p>\n",
       "</div>"
      ],
      "text/plain": [
       "     ActualShippingDays  ExpectedShippingDays        Carrier  \\\n",
       "257                  12                    12   MicroCarrier   \n",
       "155                  13                    13        BigBird   \n",
       "191                  14                    14        BigBird   \n",
       "607                  12                    13        BigBird   \n",
       "643                  18                    13        BigBird   \n",
       "..                  ...                   ...            ...   \n",
       "239                  15                    14  GlobalFreight   \n",
       "185                  13                    14  GlobalFreight   \n",
       "625                  13                    12        Shipper   \n",
       "719                  10                    11        BigBird   \n",
       "389                  10                    10        Shipper   \n",
       "\n",
       "     YShippingDistance  XShippingDistance   InBulkOrder  ShippingOrigin  \\\n",
       "257               -105                 59    Bulk Order       Las Vegas   \n",
       "155                 36               -100    Bulk Order   New York City   \n",
       "191                176                 22  Single Order   San Francisco   \n",
       "607                -87                -55  Single Order         Atlanta   \n",
       "643                 77                134    Bulk Order         Houston   \n",
       "..                 ...                ...           ...             ...   \n",
       "239               -167                -13    Bulk Order   New York City   \n",
       "185               -183                 30    Bulk Order         Houston   \n",
       "625               -251                 76    Bulk Order         Seattle   \n",
       "719                156                 35  Single Order  Salt Lake City   \n",
       "389                -54                -64    Bulk Order  Salt Lake City   \n",
       "\n",
       "    ShippingPriority  \n",
       "257              Air  \n",
       "155         Standard  \n",
       "191          Express  \n",
       "607              Air  \n",
       "643         Standard  \n",
       "..               ...  \n",
       "239           Ground  \n",
       "185         Standard  \n",
       "625              Air  \n",
       "719          Express  \n",
       "389              Air  \n",
       "\n",
       "[640 rows x 8 columns]"
      ]
     },
     "execution_count": 65,
     "metadata": {},
     "output_type": "execute_result"
    }
   ],
   "source": [
    "train"
   ]
  },
  {
   "cell_type": "code",
   "execution_count": null,
   "id": "985519df-605e-4d81-8c13-75cf232d04a1",
   "metadata": {
    "tags": []
   },
   "outputs": [
    {
     "data": {
      "text/plain": [
       "<catboost.core.CatBoostRegressor at 0x7f59768abb50>"
      ]
     },
     "execution_count": 66,
     "metadata": {},
     "output_type": "execute_result"
    }
   ],
   "source": [
    "execution.result(step_name=\"ShippingTrain\")"
   ]
  },
  {
   "cell_type": "code",
   "execution_count": null,
   "id": "2f61c9c1-4bea-4c48-abda-8da702477bee",
   "metadata": {
    "tags": []
   },
   "outputs": [
    {
     "data": {
      "text/plain": [
       "{'regression_metrics': {'mse': {'value': 0.41388702907116,\n",
       "   'standard_deviation': 0.642945277086124}}}"
      ]
     },
     "execution_count": 67,
     "metadata": {},
     "output_type": "execute_result"
    }
   ],
   "source": [
    "execution.result(step_name=\"ShippingEval\")"
   ]
  },
  {
   "cell_type": "code",
   "execution_count": null,
   "id": "57c6f6f1-17e5-4801-bca8-17ae2457b7ec",
   "metadata": {
    "tags": []
   },
   "outputs": [
    {
     "data": {
      "text/plain": [
       "<catboost.core.CatBoostRegressor at 0x7f596d9deec0>"
      ]
     },
     "execution_count": 68,
     "metadata": {},
     "output_type": "execute_result"
    }
   ],
   "source": [
    "from s3fs.core import S3FileSystem\n",
    "s3_file = S3FileSystem()\n",
    "bucket = \"sagemaker-us-east-1-376337229415\"\n",
    "key= \"ShippingPipeline/90cd8j1l6co1/ShippingTrain/results/payload.pkl\"\n",
    "data = pickle.load(s3_file.open('{}/{}'.format(bucket, key)))\n",
    "data"
   ]
  },
  {
   "cell_type": "code",
   "execution_count": 81,
   "id": "351eb9aa-d318-4ea9-bbcf-21488473fcd2",
   "metadata": {
    "tags": []
   },
   "outputs": [],
   "source": [
    "pipeline_execution_summaries = pipeline.list_executions()['PipelineExecutionSummaries']\n",
    "pipeline_execution_list = [{k:v for k,v in dct.items() if k != 'PipelineExecutionArn'} for dct in pipeline_execution_summaries]"
   ]
  },
  {
   "cell_type": "code",
   "execution_count": 83,
   "id": "54fc5bb9-3003-414b-8388-4e4337a208f6",
   "metadata": {
    "tags": []
   },
   "outputs": [
    {
     "data": {
      "text/plain": [
       "[{'StartTime': datetime.datetime(2024, 2, 11, 21, 2, 8, 107000, tzinfo=tzlocal()),\n",
       "  'PipelineExecutionStatus': 'Succeeded',\n",
       "  'PipelineExecutionDisplayName': 'execution-1707685328158'},\n",
       " {'StartTime': datetime.datetime(2024, 2, 11, 20, 19, 11, 983000, tzinfo=tzlocal()),\n",
       "  'PipelineExecutionStatus': 'Succeeded',\n",
       "  'PipelineExecutionDisplayName': 'execution-1707682752048'}]"
      ]
     },
     "execution_count": 83,
     "metadata": {},
     "output_type": "execute_result"
    }
   ],
   "source": [
    "pipeline_execution_list[:2] "
   ]
  }
 ],
 "metadata": {
  "kernelspec": {
   "display_name": "conda_python3",
   "language": "python",
   "name": "conda_python3"
  },
  "language_info": {
   "codemirror_mode": {
    "name": "ipython",
    "version": 3
   },
   "file_extension": ".py",
   "mimetype": "text/x-python",
   "name": "python",
   "nbconvert_exporter": "python",
   "pygments_lexer": "ipython3",
   "version": "3.10.13"
  },
  "toc-autonumbering": false
 },
 "nbformat": 4,
 "nbformat_minor": 5
}
